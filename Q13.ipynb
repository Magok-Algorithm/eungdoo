{
 "cells": [
  {
   "cell_type": "markdown",
   "id": "b95b8c1e",
   "metadata": {},
   "source": [
    "## 치킨배달"
   ]
  },
  {
   "cell_type": "markdown",
   "id": "c0b9a5f1",
   "metadata": {},
   "source": [
    "### Problem\n",
    "- M x N 인 도시가 있으며, 각 칸은 빈칸 / 치킨집 / 집 중 하나\n",
    "- 치킨거리: 집과 가장 가까운 치킨집 사이의 거리\n",
    " - 각각의 집은 치킨 거리를 가지고 있음\n",
    "- 도시의 치킨거리: 모든 집의 치킨거리의 합\n",
    "- 거리 구하는 공식: Distance((r1, c1), (r2, c2)) = |r1 - r2| + |c1 - c2|\n",
    "- 일부 치킨집을 없앨려고 하며, M개만 남기려 함\n",
    "- 어떻게 고르면 **도시의 치킨 거리**가 가장 작게 되는지 구하는 프로그램 작성"
   ]
  },
  {
   "cell_type": "markdown",
   "id": "0940ea4c",
   "metadata": {},
   "source": [
    "### Input\n",
    "- 도시의 크기 N(2 <= N <= 50)과 남기려는 치킨집 개수 M(1 <= M <= 13)\n",
    "- N개의 도시의 정보\n",
    " - 0: 빈칸\n",
    " - 1: 집 (1 <= 집 갯수 < 2N)\n",
    " - 2: 치킨집 (M <= 치킨집 갯수 <= 13)"
   ]
  },
  {
   "cell_type": "markdown",
   "id": "076c31f3",
   "metadata": {},
   "source": [
    "### Output\n",
    "- 폐업시키지 않을 치킨집을 최대 M개 골랐을 때, 도시의 치킨 거리의 최솟값 출력"
   ]
  },
  {
   "cell_type": "markdown",
   "id": "8a3b43a8",
   "metadata": {},
   "source": [
    "### Approch\n",
    "- 입력조건을 보면 일단 숫자가 크지 않음\n",
    "- 가장 심플하게 각각의 집마다 각각의 치킨집까지의 거리를 모두 매칭 O(2N x 13)\n",
    "- 일단 도시의 치킨거리는 구할 수 있음\n",
    "- 여기에서 어떤 기준으로 치킨집을 제거해야하지...?\n",
    " - ~~그냥 하나씩 다 빼보면서 도시의 치킨거리를 계산하여 가장 큰 경우를 제거하자~~\n",
    " - ~~각각의 치킨집까지의 거리를 모두 매칭 O(2N x 13) x 없애고자 하는 치킨집 선택 O(13) x 치킨거리 계산 O(2N)~~\n",
    " - ~~O(2N x 13 x 13 x 2N)~~\n",
    " - **한번에 가장 베스트한 것 하나씩 두번 제거하는 것과 한번에 두개 제거하는 케이스가 다름**\n",
    " - 치킨집이 n개가 있다고 하면 M개만 남겨야 하니 가능한 조합은 nCm\n",
    " - 위 경우에 대해 모두 city_distance를 구해서 가장 작은 값을 리턴해주면 됨\n",
    "- 시간복잡도는??\n",
    " - city_distance를 구하는데 집의 개수 x 치킨집의 개수 O(2N x 13)\n",
    " - 치킨집을 M개 선택하는데 O(2^13)"
   ]
  },
  {
   "cell_type": "code",
   "execution_count": 1,
   "id": "18f66a8a",
   "metadata": {},
   "outputs": [],
   "source": [
    "def get_int_list() -> list:\n",
    "    num_str = input()\n",
    "    num_list = [int(num) for num in num_str.split()]\n",
    "    return num_list"
   ]
  },
  {
   "cell_type": "code",
   "execution_count": 4,
   "id": "849f0979",
   "metadata": {},
   "outputs": [],
   "source": [
    "def get_distance(p1: list, p2: list) -> int:\n",
    "    return abs(p1[0] - p2[0]) + abs(p1[1] - p2[1])"
   ]
  },
  {
   "cell_type": "code",
   "execution_count": 27,
   "id": "154ef1ef",
   "metadata": {},
   "outputs": [],
   "source": [
    "def get_city_distance(houses: list, chickens: list) -> int:\n",
    "    \n",
    "    city_distance = 0\n",
    "    \n",
    "    for i in range(len(houses)):\n",
    "        min_distance = 101\n",
    "        for j in range(len(chickens)):\n",
    "            distance = get_distance(houses[i], chickens[j])\n",
    "            if min_distance > distance:\n",
    "                min_distance = distance\n",
    "        city_distance += min_distance\n",
    "    \n",
    "    return city_distance"
   ]
  },
  {
   "cell_type": "code",
   "execution_count": 38,
   "id": "52474126",
   "metadata": {},
   "outputs": [],
   "source": [
    "def combination(chickens: list, M: int) -> list:\n",
    "    if M == 0:\n",
    "        return [[]]\n",
    "    else:\n",
    "        combs = []\n",
    "        for i in range(len(chickens)):\n",
    "            elem = chickens[i]\n",
    "            rest = chickens[i+1:]\n",
    "            for c in combination(rest, M-1):\n",
    "                combs.append([elem] + c)\n",
    "        return combs"
   ]
  },
  {
   "cell_type": "code",
   "execution_count": 55,
   "id": "d8fcf203",
   "metadata": {},
   "outputs": [],
   "source": [
    "def solution(N: int, M: int, city_map: list) -> int:\n",
    "    \n",
    "    houses = []\n",
    "    chickens = []\n",
    "    \n",
    "    for i in range(N):\n",
    "        for j in range(N):\n",
    "            if city_map[i][j] == 1:\n",
    "                houses.append([i, j])\n",
    "            elif city_map[i][j] == 2:\n",
    "                chickens.append([i, j])\n",
    "\n",
    "    new_chickens = combination(chickens, M)\n",
    "\n",
    "    min_city_distance = 1000\n",
    "    for i in range(len(new_chickens)):\n",
    "        city_distance = get_city_distance(houses, new_chickens[i])\n",
    "        if min_city_distance > city_distance:\n",
    "            min_city_distance = city_distance\n",
    "    \n",
    "    return min_city_distance\n",
    "\n",
    "#     min_city_distance = get_city_distance(houses, chickens)\n",
    "#     while M < len(chickens):\n",
    "#         index_removed = -1\n",
    "#         min_city_distance = 101\n",
    "#         for i in range(len(chickens)):\n",
    "#             new_chickens = chickens[:i] + chickens[i+1:]\n",
    "#             city_distance = get_city_distance(houses, new_chickens)\n",
    "#             if min_city_distance > city_distance:\n",
    "#                 index_removed = i\n",
    "#                 min_city_distance = city_distance\n",
    "#         del chickens[index_removed]\n",
    "    \n",
    "#     return min_city_distance"
   ]
  },
  {
   "cell_type": "code",
   "execution_count": 9,
   "id": "1a823939",
   "metadata": {},
   "outputs": [],
   "source": [
    "def main():\n",
    "    # Get city size and target number of chicken store\n",
    "    [N, M] = get_int_list()\n",
    "    city_map = []\n",
    "    for _ in range(N):\n",
    "        line_map = get_int_list()\n",
    "        city_map.append(line_map)\n",
    "    print(solution(N, M, city_map))"
   ]
  },
  {
   "cell_type": "code",
   "execution_count": 43,
   "id": "60cac3b3",
   "metadata": {},
   "outputs": [],
   "source": [
    "N = 5\n",
    "M = 3\n",
    "city_map = [[0, 0, 1, 0, 0], [0, 0, 2, 0, 1], [0, 1, 2, 0, 0], [0, 0, 1, 0, 0], [0, 0, 0, 0, 2]]"
   ]
  },
  {
   "cell_type": "code",
   "execution_count": 56,
   "id": "2664751e",
   "metadata": {},
   "outputs": [
    {
     "data": {
      "text/plain": [
       "5"
      ]
     },
     "execution_count": 56,
     "metadata": {},
     "output_type": "execute_result"
    }
   ],
   "source": [
    "solution(N, M, city_map)"
   ]
  }
 ],
 "metadata": {
  "kernelspec": {
   "display_name": "Python 3 (ipykernel)",
   "language": "python",
   "name": "python3"
  },
  "language_info": {
   "codemirror_mode": {
    "name": "ipython",
    "version": 3
   },
   "file_extension": ".py",
   "mimetype": "text/x-python",
   "name": "python",
   "nbconvert_exporter": "python",
   "pygments_lexer": "ipython3",
   "version": "3.9.13"
  }
 },
 "nbformat": 4,
 "nbformat_minor": 5
}
