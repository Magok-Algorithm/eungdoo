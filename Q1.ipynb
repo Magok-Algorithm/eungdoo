{
 "cells": [
  {
   "cell_type": "markdown",
   "id": "474f7fd6",
   "metadata": {},
   "source": [
    "## 모험가 길드"
   ]
  },
  {
   "cell_type": "markdown",
   "id": "cad76858",
   "metadata": {},
   "source": [
    "> Greedy Algorithm: 현재 상황에서 가장 좋아 보이는 것만을 선택하는 알고리즘\n",
    "> ex) 다익스트라 최단경로 알고리즘, 크루스칼 알고리즘"
   ]
  },
  {
   "cell_type": "markdown",
   "id": "db076eb9",
   "metadata": {},
   "source": [
    "### Problem\n",
    "- 모험가 N명 존재\n",
    "- 공포도가 X인 모험가는 반드시 X명 이상으로 구성해야함\n",
    "- 여행을 떠날 수 있는 그릅 수의 최대값을 구하기"
   ]
  },
  {
   "cell_type": "markdown",
   "id": "dedf6ada",
   "metadata": {},
   "source": [
    "### Input\n",
    "- 첫째 줄에 모험가의 수 N이 주어짐 (1 <= N <= 100,000)\n",
    "- 둘째 줄에 각 모험가의 공포도의 값을 N 이하의 자연수로 주어지며, 각 자연수는 공백으로 구분"
   ]
  },
  {
   "cell_type": "markdown",
   "id": "06c9904d",
   "metadata": {},
   "source": [
    "### Output\n",
    "- 여행을 떠날 수 있는 구룹 수의 최대값 출력"
   ]
  },
  {
   "cell_type": "code",
   "execution_count": null,
   "id": "1b03d15f",
   "metadata": {},
   "outputs": [],
   "source": []
  }
 ],
 "metadata": {
  "kernelspec": {
   "display_name": "Python 3 (ipykernel)",
   "language": "python",
   "name": "python3"
  },
  "language_info": {
   "codemirror_mode": {
    "name": "ipython",
    "version": 3
   },
   "file_extension": ".py",
   "mimetype": "text/x-python",
   "name": "python",
   "nbconvert_exporter": "python",
   "pygments_lexer": "ipython3",
   "version": "3.9.13"
  }
 },
 "nbformat": 4,
 "nbformat_minor": 5
}
