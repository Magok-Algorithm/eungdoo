{
 "cells": [
  {
   "cell_type": "markdown",
   "id": "474f7fd6",
   "metadata": {},
   "source": [
    "## 모험가 길드"
   ]
  },
  {
   "cell_type": "markdown",
   "id": "cad76858",
   "metadata": {},
   "source": [
    "> Greedy Algorithm: 현재 상황에서 가장 좋아 보이는 것만을 선택하는 알고리즘\n",
    "> ex) 다익스트라 최단경로 알고리즘, 크루스칼 알고리즘"
   ]
  },
  {
   "cell_type": "markdown",
   "id": "db076eb9",
   "metadata": {},
   "source": [
    "### Problem\n",
    "- 모험가 N명 존재\n",
    "- **공포도가 X인 모험가는 반드시 X명 이상으로 구성**해야함\n",
    "- 여행을 떠날 수 있는 그릅 수의 최대값을 구하기"
   ]
  },
  {
   "cell_type": "markdown",
   "id": "dedf6ada",
   "metadata": {},
   "source": [
    "### Input\n",
    "- 첫째 줄에 모험가의 수 N이 주어짐 (1 <= N <= 100,000)\n",
    "- 둘째 줄에 각 모험가의 공포도의 값을 N 이하의 자연수로 주어지며, 각 자연수는 공백으로 구분"
   ]
  },
  {
   "cell_type": "markdown",
   "id": "06c9904d",
   "metadata": {},
   "source": [
    "### Output\n",
    "- 여행을 떠날 수 있는 구룹 수의 최대값 출력"
   ]
  },
  {
   "cell_type": "markdown",
   "id": "ce75259e",
   "metadata": {},
   "source": [
    "#### 1.  Input을 받는 함수 구현 (chatGPT를 이용하면 쉽게 구현 가능)"
   ]
  },
  {
   "cell_type": "code",
   "execution_count": 22,
   "id": "1b03d15f",
   "metadata": {},
   "outputs": [],
   "source": [
    "def get_int():\n",
    "    num = input()\n",
    "    return int(num)"
   ]
  },
  {
   "cell_type": "code",
   "execution_count": 23,
   "id": "fb776c4c",
   "metadata": {},
   "outputs": [],
   "source": [
    "def get_int_list():\n",
    "    num_str = input()\n",
    "    num_list = [int(num) for num in num_str.split()]\n",
    "    return num_list"
   ]
  },
  {
   "cell_type": "markdown",
   "id": "c8fc173e",
   "metadata": {},
   "source": [
    "#### 문제 접근 방법\n",
    "> Greedy Algorithm 이니까 현재 상황에서 가장 좋아보이는 것을 먼저 선택하는 방식으로 접근해보자  \n",
    "> **목표는 그룹을 가장 많이 만드는 것**\n",
    "1. 공포도가 가장 높은 친구 하나를 뽑아서 공포도가 높은 순으로 최소한의 인원으로 그룹을 만들어주자.\n",
    "2. 다음 공포도가 높은 친구 하나를 뽑아서 공포도가 높은 순으로 최소한의 인원으로 그룹을 만들어주자.\n",
    "3. 모든 친구가 그룹에 포함될 때까지 2를 반복하자"
   ]
  },
  {
   "cell_type": "code",
   "execution_count": null,
   "id": "922cf795",
   "metadata": {},
   "outputs": [],
   "source": [
    "i"
   ]
  },
  {
   "cell_type": "markdown",
   "id": "800314f7",
   "metadata": {},
   "source": [
    "#### 시간복잡도\n",
    "- 공포도가 높은 순으로 정렬 O(NlogN)  \n",
    "- 공포도가 가장 높은 인원을 한명 선택하고 O(N), 나머지 인원에 대해 체크 ~O(N)~ O(1)\n",
    " - 선택한 공포도만큼 이동하면 O(1)이 가능\n",
    "- O(NlogN)  \n",
    "- N이 100,000이기 때문에 문제 없이보임  "
   ]
  },
  {
   "cell_type": "code",
   "execution_count": 57,
   "id": "eec80f2a",
   "metadata": {},
   "outputs": [],
   "source": [
    "def solution(N: int, fear_list: list) -> int:\n",
    "    # Sort fear_list by ascending order.\n",
    "    fear_list = sorted(fear_list, reverse=True)\n",
    "\n",
    "    num_group = 0\n",
    "    index = 0\n",
    "\n",
    "    while index < N:\n",
    "        # Check it's possible to make group.\n",
    "        min_member = fear_list[index]\n",
    "        index = index + min_member\n",
    "        \n",
    "        if index - 1 < N:\n",
    "            num_group += 1\n",
    "    \n",
    "    return num_group"
   ]
  },
  {
   "cell_type": "code",
   "execution_count": 59,
   "id": "c69b9add",
   "metadata": {},
   "outputs": [],
   "source": [
    "def main():\n",
    "    N = get_int()\n",
    "    fear_list = get_int_list()\n",
    "    print(solution(N, fear_list))"
   ]
  },
  {
   "cell_type": "code",
   "execution_count": 49,
   "id": "2b7cc700",
   "metadata": {},
   "outputs": [],
   "source": [
    "N = 5\n",
    "fear_list = [2, 3, 1, 2, 2]"
   ]
  },
  {
   "cell_type": "code",
   "execution_count": 61,
   "id": "523f7110",
   "metadata": {},
   "outputs": [
    {
     "name": "stdout",
     "output_type": "stream",
     "text": [
      "5\n",
      "2 3 1 2 2\n",
      "2\n"
     ]
    }
   ],
   "source": [
    "main()"
   ]
  }
 ],
 "metadata": {
  "kernelspec": {
   "display_name": "Python 3 (ipykernel)",
   "language": "python",
   "name": "python3"
  },
  "language_info": {
   "codemirror_mode": {
    "name": "ipython",
    "version": 3
   },
   "file_extension": ".py",
   "mimetype": "text/x-python",
   "name": "python",
   "nbconvert_exporter": "python",
   "pygments_lexer": "ipython3",
   "version": "3.9.13"
  }
 },
 "nbformat": 4,
 "nbformat_minor": 5
}
