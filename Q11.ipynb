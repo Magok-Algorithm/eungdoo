{
 "cells": [
  {
   "cell_type": "markdown",
   "id": "19da4410",
   "metadata": {},
   "source": [
    "## 뱀"
   ]
  },
  {
   "cell_type": "markdown",
   "id": "0c17b37b",
   "metadata": {},
   "source": [
    "### Problem\n",
    "- 뱀이 나와서 기어다니는데, 사과를 먹으면 뱀 길이가 늘어나고, 벽 또는 자신의 몸과 부딪히면 게임이 끝남\n",
    "- N x N 보드에서 진행되며, 몇몇 칸에는 사과가 놓여져 있음\n",
    "- 보드의 가장자리는 벽으로 되어있으며, 뱀은 맨 위 좌측에서 시작하고 길이는 1이며 오른쪽을 향함\n",
    "- 뱀은 매 초마다 아래의 규칙을 따름\n",
    " - 먼저 뱀은 몸 길이를 늘려 머리를 다음 칸에 위치시킴\n",
    " - 만약 이동한 칸에 사과가 있다면, 그 칸에 있던 사과가 없어지고 꼬리는 움직이지 ㅇ낳음\n",
    " - 만약 이동한 칸에 사과가 없다면, 몸길이를 줄여서 꼬리가 위치한 칸을 비워줌\n",
    "- **사과의 위치와 뱀의 이동경로가 주어질 때, 이 게임이 몇 초에 끝나는지 계산**"
   ]
  },
  {
   "cell_type": "markdown",
   "id": "db0388f4",
   "metadata": {},
   "source": [
    "### Input\n",
    "- 첫째 줄에 보드의 크기 N이 주어짐. (2 <= N <= 100)\n",
    "- 다음 줄에 사과의 개수 K가 주어짐 (0 <= K <= 100)\n",
    "- 다음 K개의 줄에는 사과의 위치가 주어짐, 첫 번재 정수는 행, 두 번째 정수는 열 위치를 의미\n",
    " - 1열 1행에는 사과가 없음\n",
    "- 다음 줄에는 뱀의 방향 변환 횟수 L이 주어짐 (1 <= L <= 100)\n",
    "- 다음 L개의 줄에는 뱀의 방향 변환 정보가 주어짐, 정수 X와 문자 C로 이루어짐\n",
    " - X: X초가 끝난 뒤에 (0 < X <= 10,000)\n",
    " - C: 'L' 왼쪽 'D' 오른쪽으로 90도 방향 회전"
   ]
  },
  {
   "cell_type": "markdown",
   "id": "44a83210",
   "metadata": {},
   "source": [
    "### Output\n",
    "- 게임이 몇초에 끝나는지 출력"
   ]
  },
  {
   "cell_type": "markdown",
   "id": "60c14fd7",
   "metadata": {},
   "source": [
    "### Approch\n",
    "- NxN 매트릭스를 생성한 후, 해당 위치에 맞게 사과를 마크함\n",
    "- 뱀은 Array를 이용한 Circular Queue로 구성을 하며, 이동 시엔 Head로는 Enqueue / Tail로는 Dequeue\n",
    " - 매번 이동을 할 때마다 벽인지 자기 자신에 부딪혔는지 체크\n",
    " - 사과를 먹었을 경우에는 Head에 다음 위치만 추가\n",
    "- 총 시간 복잡도는 O(XK)\n",
    " - 매 초마다 이동하며 O(X)\n",
    " - 이동할 때마다 벽에 부딪혔는지 체크 O(1) OR 자기 자신에 부딪혔는지 체크 O(K) **최대 뱀의 길이는 사과의 개수**"
   ]
  },
  {
   "cell_type": "code",
   "execution_count": 38,
   "id": "c8dca29a",
   "metadata": {},
   "outputs": [],
   "source": [
    "def get_int():\n",
    "    num = input()\n",
    "    return int(num)"
   ]
  },
  {
   "cell_type": "code",
   "execution_count": 39,
   "id": "882df84d",
   "metadata": {},
   "outputs": [],
   "source": [
    "def get_int_list():\n",
    "    num_str = input()\n",
    "    num_list = [int(num) for num in num_str.split()]\n",
    "    return num_list"
   ]
  },
  {
   "cell_type": "code",
   "execution_count": 40,
   "id": "90878ce6",
   "metadata": {},
   "outputs": [],
   "source": [
    "def get_int_ch_list():\n",
    "    buf_str = input()\n",
    "    buf = buf_str.split()\n",
    "    list = [int(buf[0]), buf[1]]\n",
    "    return list"
   ]
  },
  {
   "cell_type": "code",
   "execution_count": 41,
   "id": "9a969f39",
   "metadata": {},
   "outputs": [],
   "source": [
    "class CircularQueue:\n",
    "    def __init__(self, k: int):\n",
    "        self.k = k\n",
    "        self.q = [None] * k\n",
    "        self.head = 0\n",
    "        self.tail = 0\n",
    "\n",
    "    def enqueue(self, value: list) -> bool:\n",
    "        if self.q[self.tail] is None:\n",
    "            self.q[self.tail] = value\n",
    "            self.tail = (self.tail + 1) % self.k\n",
    "            return True\n",
    "        else:\n",
    "            return False\n",
    "\n",
    "    def dequeue(self) -> bool:\n",
    "        if self.q[self.head] is not None:\n",
    "            self.q[self.head] = None\n",
    "            self.head = (self.head + 1) % self.k\n",
    "            return True\n",
    "        else:\n",
    "            return False\n",
    "\n",
    "    def front(self) -> list:\n",
    "        return self.q[self.head] if self.q[self.head] is not None else None\n",
    "\n",
    "    def rear(self) -> list:\n",
    "        return self.q[self.tail - 1] if self.q[self.tail - 1] is not None else None\n",
    "\n",
    "    def is_empty(self) -> bool:\n",
    "        return self.head == self.tail and self.q[self.head] is None\n",
    "\n",
    "    def is_full(self) -> bool:\n",
    "        return self.head == self.tail and self.q[self.head] is not None\n",
    "    \n",
    "    def is_gameover(self, next_head: list) -> bool:\n",
    "        if self.tail >= self.head:\n",
    "            for i in range(self.head, self.tail):\n",
    "                if self.q[i][0] == next_head[0] and self.q[i][1] == next_head[1]:\n",
    "                    return True\n",
    "        else:\n",
    "            for i in range(self.tail, self.k):\n",
    "                if self.q[i][0] == next_head[0] and self.q[i][1] == next_head[1]:\n",
    "                    return True\n",
    "            for i in range(0, self.head):\n",
    "                if self.q[i][0] == next_head[0] and self.q[i][1] == next_head[1]:\n",
    "                    return True\n",
    "                \n",
    "        return False    "
   ]
  },
  {
   "cell_type": "code",
   "execution_count": 54,
   "id": "f7f0463e",
   "metadata": {},
   "outputs": [],
   "source": [
    "def solution(N: int, K: int, apples: list, L: int, moves: list) -> int:\n",
    "    \n",
    "    # 1. Make game map as numpy array.\n",
    "    game_map = [[0 for _ in range(N)] for _ in range(N)]\n",
    "    \n",
    "    # 2. Update apple.\n",
    "    for index in apples:\n",
    "        game_map[index[0] - 1][index[1] - 1] = 1\n",
    "    \n",
    "    # 3. Generate snake by queue.\n",
    "    snake = CircularQueue(101)\n",
    "    snake.enqueue([0, 0])\n",
    "\n",
    "    # 4. Start game, increase 1 sec and move snake and check\n",
    "    direction = 0\n",
    "    moves_index = 0\n",
    "    for X in range(1, 10001):\n",
    "        next_head = [-1, -1]\n",
    "        curr_head = snake.rear()\n",
    "\n",
    "        # 4-1. Get position next snake head.\n",
    "        if direction == 0: # Right\n",
    "            next_head[0] = curr_head[0]\n",
    "            next_head[1] = curr_head[1] + 1\n",
    "        elif direction == 1: # Up\n",
    "            next_head[0] = curr_head[0] - 1\n",
    "            next_head[1] = curr_head[1]\n",
    "        elif direction == 2: # Left\n",
    "            next_head[0] = curr_head[0]\n",
    "            next_head[1] = curr_head[1] - 1\n",
    "        elif direction == 3: # Down\n",
    "            next_head[0] = curr_head[0] + 1\n",
    "            next_head[1] = curr_head[1]\n",
    "        else:\n",
    "            # MUST BE NOT REACHABLE\n",
    "            return -1\n",
    "        \n",
    "        # 4-2. Check approching barrier\n",
    "        if next_head[0] == -1 or next_head[0] == N:\n",
    "            return X\n",
    "        if next_head[1] == -1 or next_head[1] == N:\n",
    "            return X\n",
    "            \n",
    "        # 4-3. Check approching snake itself.\n",
    "        if snake.is_gameover(next_head):\n",
    "            return X\n",
    "        \n",
    "        # 4-4. Move snake\n",
    "        snake.enqueue(next_head)\n",
    "        if game_map[next_head[0]][next_head[1]] == 0:\n",
    "            snake.dequeue()\n",
    "        else:\n",
    "            game_map[next_head[0]][next_head[1]] = 0\n",
    "        \n",
    "        #  4-5. Update direction\n",
    "        if moves_index < L and moves[moves_index][0] == X:\n",
    "            if moves[moves_index][1] == 'L':\n",
    "                direction = (direction + 1) % 4\n",
    "            elif moves[moves_index][1] == 'D':\n",
    "                direction = (direction - 1) % 4\n",
    "            moves_index += 1\n",
    "\n",
    "    return -1"
   ]
  },
  {
   "cell_type": "code",
   "execution_count": 47,
   "id": "93012f76",
   "metadata": {},
   "outputs": [],
   "source": [
    "def main():\n",
    "    N = get_int()\n",
    "    K = get_int()\n",
    "    apples = []\n",
    "    for _ in range(K):\n",
    "        apples.append(get_int_list())\n",
    "    L = get_int()\n",
    "    moves = []\n",
    "    for _ in range(L):\n",
    "        moves.append(get_int_ch_list())\n",
    "    print(solution(N, K, apples, L, moves))"
   ]
  },
  {
   "cell_type": "code",
   "execution_count": 55,
   "id": "7af35080",
   "metadata": {},
   "outputs": [],
   "source": [
    "N = 6\n",
    "K = 3\n",
    "apples = [[3, 4], [2, 5], [5, 3]]\n",
    "L = 3\n",
    "moves = [[3, 'D'], [15, 'L'], [17, 'D']]"
   ]
  },
  {
   "cell_type": "code",
   "execution_count": 50,
   "id": "96e20838",
   "metadata": {},
   "outputs": [],
   "source": [
    "N = 10\n",
    "K = 4\n",
    "apples = [[1, 2], [1, 3], [1, 4], [1, 5]]\n",
    "L = 4\n",
    "moves = [[8, 'D'], [10, 'D'], [11, 'D'], [13, 'L']]"
   ]
  },
  {
   "cell_type": "code",
   "execution_count": 57,
   "id": "80b280bf",
   "metadata": {},
   "outputs": [],
   "source": [
    "N = 10\n",
    "K = 5\n",
    "apples = [[1, 5], [1, 3], [1, 2], [1, 6], [1, 7]]\n",
    "L = 4\n",
    "moves = [[8, 'D'], [10, 'D'], [11, 'D'], [13, 'L']]"
   ]
  },
  {
   "cell_type": "code",
   "execution_count": 58,
   "id": "3782ab82",
   "metadata": {},
   "outputs": [
    {
     "data": {
      "text/plain": [
       "13"
      ]
     },
     "execution_count": 58,
     "metadata": {},
     "output_type": "execute_result"
    }
   ],
   "source": [
    "solution(N, K, apples, L, moves)"
   ]
  },
  {
   "cell_type": "code",
   "execution_count": null,
   "id": "96961cf5",
   "metadata": {},
   "outputs": [],
   "source": []
  }
 ],
 "metadata": {
  "kernelspec": {
   "display_name": "Python 3 (ipykernel)",
   "language": "python",
   "name": "python3"
  },
  "language_info": {
   "codemirror_mode": {
    "name": "ipython",
    "version": 3
   },
   "file_extension": ".py",
   "mimetype": "text/x-python",
   "name": "python",
   "nbconvert_exporter": "python",
   "pygments_lexer": "ipython3",
   "version": "3.9.13"
  }
 },
 "nbformat": 4,
 "nbformat_minor": 5
}
