{
 "cells": [
  {
   "cell_type": "markdown",
   "id": "620ab140",
   "metadata": {},
   "source": [
    "## 곱하기 혹은 더하기"
   ]
  },
  {
   "cell_type": "markdown",
   "id": "eb99d413",
   "metadata": {},
   "source": [
    "### Problem\n",
    "- 0~9 까지 숫자로만 이루어진 문자열이 주어짐\n",
    "- 각 숫자 사이에 'x' 또는 '+' 연산자를 넣어서 가장 큰 수를 구하는 프로그램"
   ]
  },
  {
   "cell_type": "markdown",
   "id": "00d2a8ea",
   "metadata": {},
   "source": [
    "### Input\n",
    "- 0~9 숫자로 된 문자열"
   ]
  },
  {
   "cell_type": "markdown",
   "id": "9e80d480",
   "metadata": {},
   "source": [
    "### Output\n",
    "- 덧셈과 곱셈을 이용하여 만든 가장 큰 수"
   ]
  },
  {
   "cell_type": "markdown",
   "id": "0e403499",
   "metadata": {},
   "source": [
    "### 문제 접근 방법\n",
    "- 문자열의 순서를 마음대로 바꿀 수 없음\n",
    "- 만약 모든 경우의 수를 고려한다면 O(2^(n-1)) 임\n",
    " - 모든 숫자 사이(n-1)에 + 또는 * 임 (n은 S의 길이)\n",
    "- 아주 간단히 매 단계마다 가장 큰 수를 만들면 됨\n",
    " - 즉, 덧셈과 곱셈 중 큰 수만 선택하여 마지막까지 연산하면 끝 (O(n))"
   ]
  },
  {
   "cell_type": "code",
   "execution_count": 12,
   "id": "b098223c",
   "metadata": {},
   "outputs": [],
   "source": [
    "def get_num_list():\n",
    "    num_str = input()\n",
    "    num_list = [int(num) for num in num_str]\n",
    "    return num_list"
   ]
  },
  {
   "cell_type": "code",
   "execution_count": 6,
   "id": "2e8f94dd",
   "metadata": {},
   "outputs": [],
   "source": [
    "def solution(num_list: list) -> int:\n",
    "    ans = num_list[0]\n",
    "    for num in num_list[1:]:\n",
    "        plus = ans + num\n",
    "        multi = ans * num\n",
    "        if plus > multi:\n",
    "            ans = plus\n",
    "        else:\n",
    "            ans = multi\n",
    "    return ans"
   ]
  },
  {
   "cell_type": "code",
   "execution_count": 14,
   "id": "2d1b0d32",
   "metadata": {},
   "outputs": [
    {
     "name": "stdout",
     "output_type": "stream",
     "text": [
      "02984\n"
     ]
    },
    {
     "data": {
      "text/plain": [
       "576"
      ]
     },
     "execution_count": 14,
     "metadata": {},
     "output_type": "execute_result"
    }
   ],
   "source": [
    "solution(get_num_list())"
   ]
  },
  {
   "cell_type": "code",
   "execution_count": 15,
   "id": "7921d811",
   "metadata": {},
   "outputs": [
    {
     "name": "stdout",
     "output_type": "stream",
     "text": [
      "567\n"
     ]
    },
    {
     "data": {
      "text/plain": [
       "210"
      ]
     },
     "execution_count": 15,
     "metadata": {},
     "output_type": "execute_result"
    }
   ],
   "source": [
    "solution(get_num_list())"
   ]
  }
 ],
 "metadata": {
  "kernelspec": {
   "display_name": "Python 3 (ipykernel)",
   "language": "python",
   "name": "python3"
  },
  "language_info": {
   "codemirror_mode": {
    "name": "ipython",
    "version": 3
   },
   "file_extension": ".py",
   "mimetype": "text/x-python",
   "name": "python",
   "nbconvert_exporter": "python",
   "pygments_lexer": "ipython3",
   "version": "3.9.13"
  }
 },
 "nbformat": 4,
 "nbformat_minor": 5
}
