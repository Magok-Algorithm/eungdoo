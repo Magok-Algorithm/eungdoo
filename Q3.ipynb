{
 "cells": [
  {
   "cell_type": "markdown",
   "id": "5450d227",
   "metadata": {},
   "source": [
    "## 문자열 뒤집기"
   ]
  },
  {
   "cell_type": "markdown",
   "id": "485d33e4",
   "metadata": {},
   "source": [
    "### Problem\n",
    "- 0과 1로만 이루어진 문자열 S\n",
    "- S에서 연속된 하나 이상의 숫자를 잡고 모두 뒤집는 것만 가능\n",
    "- 문자열 S에 있는 모든 숫자를 같게 만드려고 함"
   ]
  },
  {
   "cell_type": "markdown",
   "id": "a0bc4244",
   "metadata": {},
   "source": [
    "### Input\n",
    "- 0과 1로만 이루어진 문자열 S\n",
    " - S의 길이는 100만보다 작음"
   ]
  },
  {
   "cell_type": "markdown",
   "id": "3e0de2f7",
   "metadata": {},
   "source": [
    "### Output\n",
    "- 모두 같은 숫자로 만드는 최소 횟수"
   ]
  },
  {
   "cell_type": "markdown",
   "id": "fdb53b99",
   "metadata": {},
   "source": [
    "### Approch\n",
    "- 모든 경우의 수를 고려할 때, ....? ... 일단 모르겠음\n",
    "- 일단 Greedy 로 푼다면... 각 Step 마다 어떤 경우가 가장 좋을까?? Step은 어떤 것이여야 하지??\n",
    "- 모든 같은 숫자로 만드는 최소 횟수....??\n",
    "- 가장 먼저 같은 숫자끼리 묶는 것이 좋을까? 일단 묶고 나면 그냥 1개로 봐도 됨\n",
    " - 같은 숫자끼리 묶는데 걸리는 시간은 O(n)\n",
    "- 같은 숫자끼리 묶었다면 양 옆은 항상 다른 숫자이며 01010101... 또는 101010101...\n",
    "- 그럼 전부 묶고나서 /2 를 하게 되면 최소 횟수가 됨\n",
    "- 총 시간 복잡도 O(n) 나쁘지 않음"
   ]
  },
  {
   "cell_type": "code",
   "execution_count": 11,
   "id": "cf90da94",
   "metadata": {},
   "outputs": [],
   "source": [
    "def solution(S: str) -> int:\n",
    "    count = 1\n",
    "    prev_num = S[0]\n",
    "    for num in S:\n",
    "        if num != prev_num:\n",
    "            count += 1\n",
    "            prev_num = num\n",
    "    \n",
    "    return count//2"
   ]
  },
  {
   "cell_type": "code",
   "execution_count": 13,
   "id": "8a686ca6",
   "metadata": {},
   "outputs": [],
   "source": [
    "S = \"000110\""
   ]
  },
  {
   "cell_type": "code",
   "execution_count": 14,
   "id": "d9bf3391",
   "metadata": {},
   "outputs": [
    {
     "data": {
      "text/plain": [
       "1"
      ]
     },
     "execution_count": 14,
     "metadata": {},
     "output_type": "execute_result"
    }
   ],
   "source": [
    "solution(S)"
   ]
  },
  {
   "cell_type": "code",
   "execution_count": null,
   "id": "a7fee1a7",
   "metadata": {},
   "outputs": [],
   "source": []
  }
 ],
 "metadata": {
  "kernelspec": {
   "display_name": "Python 3 (ipykernel)",
   "language": "python",
   "name": "python3"
  },
  "language_info": {
   "codemirror_mode": {
    "name": "ipython",
    "version": 3
   },
   "file_extension": ".py",
   "mimetype": "text/x-python",
   "name": "python",
   "nbconvert_exporter": "python",
   "pygments_lexer": "ipython3",
   "version": "3.9.13"
  }
 },
 "nbformat": 4,
 "nbformat_minor": 5
}
